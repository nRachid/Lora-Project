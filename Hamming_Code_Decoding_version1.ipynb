{
 "cells": [
  {
   "cell_type": "code",
   "execution_count": 1,
   "id": "107e2646",
   "metadata": {},
   "outputs": [
    {
     "name": "stdout",
     "output_type": "stream",
     "text": [
      "Enter Input String of bits\n",
      "100101011010\n",
      "Output is\n",
      "0011001\n",
      "0100101\n",
      "1011010\n"
     ]
    }
   ],
   "source": [
    "# Hamming code (7,4):\n",
    "\n",
    "K = 4\n",
    "def encode(b):\n",
    "    # Read in K=4 bits at a time and write out those plus parity bits\n",
    "    while len(b) >= K:\n",
    "        L = b[0:K]\n",
    "        input(hamming(L))\n",
    "        b = b[K:]\n",
    "\n",
    "def hamming(bits):\n",
    "    # Return given 4 bits plus parity bits for bits (1,2,3), (2,3,4) and (1,3,4)\n",
    "    a1 = parity(bits, [0,1,3])\n",
    "    a2 = parity(bits, [0,2,3])\n",
    "    a3 = parity(bits, [1,2,3])\n",
    "    return a1 + a2 + bits[0] + a3 + bits[1:] \n",
    "\n",
    "def parity(b, indicies):\n",
    "    # Compute the parity bit for the given string b and indicies\n",
    "    c = \"\"\n",
    "    for i in indicies:\n",
    "        c += b[i]\n",
    "    return str(str.count(c, \"1\") % 2)\n",
    "\n",
    "if __name__ == \"__main__\":\n",
    "    print(\"Enter Input String of bits\") \n",
    "    input_string = input().strip()\n",
    "    print(\"Output is\" ) \n",
    "    encode(input_string)"
   ]
  },
  {
   "cell_type": "code",
   "execution_count": 2,
   "id": "10408b47",
   "metadata": {},
   "outputs": [
    {
     "name": "stdout",
     "output_type": "stream",
     "text": [
      "Enter the hamming code received\n",
      "101000010101001001010\n",
      "Error is in 15 bit\n",
      "After correction hamming code is: \n",
      "101000110101001001010\n"
     ]
    }
   ],
   "source": [
    "#Hamming decoding: detection and correction of errors    \n",
    "\n",
    "print('Enter the hamming code received')\n",
    "d=input()\n",
    "data=list(d)\n",
    "data.reverse()\n",
    "c,ch,j,r,error,h,parity_list,h_copy=0,0,0,0,0,[],[],[]\n",
    "for k in range(0,len(data)):\n",
    "    p=(2**c)\n",
    "    h.append(int(data[k]))\n",
    "    h_copy.append(data[k])\n",
    "    if(p==(k+1)):\n",
    "        c=c+1\n",
    "            \n",
    "for parity in range(0,(len(h))):\n",
    "    ph=(2**ch)\n",
    "    if(ph==(parity+1)):\n",
    "\n",
    "        startIndex=ph-1\n",
    "        i=startIndex\n",
    "        toXor=[]\n",
    "\n",
    "        while(i<len(h)):\n",
    "            block=h[i:i+ph]\n",
    "            toXor.extend(block)\n",
    "            i+=2*ph\n",
    "\n",
    "        for z in range(1,len(toXor)):\n",
    "            h[startIndex]=h[startIndex]^toXor[z] \n",
    "        parity_list.append(h[parity])\n",
    "        ch+=1\n",
    "parity_list.reverse()\n",
    "error=sum(int(parity_list) * (2 ** i) for i, parity_list in enumerate(parity_list[::-1]))\n",
    "    \n",
    "if((error)==0):\n",
    "    print('There is no error in the hamming code received')\n",
    "\n",
    "elif((error)>=len(h_copy)):\n",
    "    print('Error cannot be detected')\n",
    "\n",
    "else:\n",
    "    print('Error is in',error,'bit')\n",
    "\n",
    "    if(h_copy[error-1]=='0'):\n",
    "        h_copy[error-1]='1'\n",
    "        print('After correction hamming code is: ')\n",
    "    \n",
    "\n",
    "    elif(h_copy[error-1]=='1'):\n",
    "        h_copy[error-1]='0'\n",
    "        print('After correction hamming code is: ')\n",
    "    h_copy.reverse()\n",
    "    print(int(''.join(map(str, h_copy))))\n"
   ]
  },
  {
   "cell_type": "code",
   "execution_count": null,
   "id": "358529af",
   "metadata": {},
   "outputs": [],
   "source": []
  }
 ],
 "metadata": {
  "kernelspec": {
   "display_name": "Python 3 (ipykernel)",
   "language": "python",
   "name": "python3"
  },
  "language_info": {
   "codemirror_mode": {
    "name": "ipython",
    "version": 3
   },
   "file_extension": ".py",
   "mimetype": "text/x-python",
   "name": "python",
   "nbconvert_exporter": "python",
   "pygments_lexer": "ipython3",
   "version": "3.9.7"
  }
 },
 "nbformat": 4,
 "nbformat_minor": 5
}
