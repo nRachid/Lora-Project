{
 "cells": [
  {
   "cell_type": "code",
   "execution_count": 1,
   "id": "2d77705a",
   "metadata": {},
   "outputs": [],
   "source": [
    "K = 4\n",
    "#works only for 7,4\n",
    "\n",
    "def hamming_encode(s):\n",
    "    # Read in K=4 bits at a time and write out those plus parity bits\n",
    "    code =\"\"\n",
    "    add = 0\n",
    "    while len(s) >= K:\n",
    "        nibble = s[0:K]\n",
    "        code += hamming(nibble)\n",
    "        s = s[K:]\n",
    "        if len(s)<K and len(s) != 0:\n",
    "            \n",
    "            for i in range(len(s), K):\n",
    "                s +=\"0\"\n",
    "                add +=1\n",
    "    return code,add\n",
    "\n",
    "def hamming(bits):\n",
    "    # Return given 4 bits plus parity bits for bits (1,2,3), (2,3,4) and (1,3,4)\n",
    "    t1 = parity(bits, [0,1,3])\n",
    "    t2 = parity(bits, [0,2,3])\n",
    "    t3 = parity(bits, [1,2,3])\n",
    "    return t1 + t2 + bits[0] + t3 + bits[1:] #again saying, works only for 7,4\n",
    "\n",
    "def parity(s, indicies):\n",
    "    # Compute the parity bit for the given string s and indicies\n",
    "    sub = \"\"\n",
    "    for i in indicies:\n",
    "        sub += s[i]\n",
    "    return str(str.count(sub, \"1\") % 2)"
   ]
  },
  {
   "cell_type": "code",
   "execution_count": 2,
   "id": "5f6dc3e7",
   "metadata": {},
   "outputs": [
    {
     "data": {
      "text/plain": [
       "('01100110100101001100110110101110000', 3)"
      ]
     },
     "execution_count": 2,
     "metadata": {},
     "output_type": "execute_result"
    }
   ],
   "source": [
    "hamming_encode('10110101100110101')"
   ]
  },
  {
   "cell_type": "code",
   "execution_count": 3,
   "id": "f7100167",
   "metadata": {},
   "outputs": [],
   "source": [
    "def  hamming_decode(xx):\n",
    "    message = xx[0]\n",
    "    subs = xx[1]\n",
    "    message = [int(x) for x in message]\n",
    "    W = \"\"\n",
    "    while len(message)>= 7:\n",
    "        \n",
    "        s = message[:7]\n",
    "        \"\"\"  Hamming  decoding  of the 7 bits  signal  \"\"\"\n",
    "        b1= (s[0]+s[2]+s[4]+s[6]) % 2\n",
    "        b2= (s[1]+s[2]+s[5]+s[6]) % 2\n",
    "        b3= (s[3]+s[4]+s[5]+s[6]) % 2\n",
    "        b=4*b3+2*b2+b1 \n",
    "        # the  integer  value\n",
    "        if b==0 or b==1 or b==2 or b==4:\n",
    "            W += ''.join(map(str,(s[2],s[4],s[5] ,s[6])))\n",
    "            #W += [s[2],s[4],s[5] ,s[6]]\n",
    "        else:\n",
    "            y=[s[0],s[1] ,s[2],s[3],s[4] ,s[5],s[6]]\n",
    "            y[b-1]=(s[b -1]+1) % 2   # correct  bit b\n",
    "            W += ''.join(map(str,(s[2],s[4],s[5] ,s[6])))\n",
    "            #W += [s[2],s[4],s[5] ,s[6]]\n",
    "        message = message[7:]\n",
    "\n",
    "    W = W[:-subs]\n",
    "    return W"
   ]
  },
  {
   "cell_type": "code",
   "execution_count": 4,
   "id": "ea88f3a2",
   "metadata": {},
   "outputs": [
    {
     "data": {
      "text/plain": [
       "'10110101100110101'"
      ]
     },
     "execution_count": 4,
     "metadata": {},
     "output_type": "execute_result"
    }
   ],
   "source": [
    "hamming_decode(('01100110100101001100110110101110000', 3))"
   ]
  },
  {
   "cell_type": "code",
   "execution_count": null,
   "id": "774b9a17",
   "metadata": {},
   "outputs": [],
   "source": []
  }
 ],
 "metadata": {
  "kernelspec": {
   "display_name": "Python 3 (ipykernel)",
   "language": "python",
   "name": "python3"
  },
  "language_info": {
   "codemirror_mode": {
    "name": "ipython",
    "version": 3
   },
   "file_extension": ".py",
   "mimetype": "text/x-python",
   "name": "python",
   "nbconvert_exporter": "python",
   "pygments_lexer": "ipython3",
   "version": "3.9.7"
  }
 },
 "nbformat": 4,
 "nbformat_minor": 5
}
