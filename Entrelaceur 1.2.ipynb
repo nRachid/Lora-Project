{
 "cells": [
  {
   "cell_type": "code",
   "execution_count": 282,
   "id": "86650165",
   "metadata": {},
   "outputs": [],
   "source": [
    "import numpy as np\n",
    "def to_nm_list(A, n, m):\n",
    "    S = [[0 for i in range(m)] for j in range(n)]\n",
    "    if len(A) == n*m:\n",
    "        c=0\n",
    "        for k in range(n):\n",
    "            for i in range(m):\n",
    "                S[k][i] = A[c]\n",
    "                c+=1\n",
    "    elif len(A) < n*m:\n",
    "        B = ['0' for i in range(n*m - len(A))]\n",
    "        b=''\n",
    "        b=b.join(B)\n",
    "        A+=b\n",
    "        S = to_nm_list(A, n, m)\n",
    "    else:\n",
    "        S=[]\n",
    "        k=len(A)//(n*m)\n",
    "        for i in range(k):\n",
    "            M=A[i*(n*m):((i+1)*(n*m))]\n",
    "            S.append(to_nm_list(M, n, m))\n",
    "        A = A[k*(m*n):]\n",
    "        if A != '':\n",
    "            S.append(to_nm_list(A, n, m))\n",
    "    return (S)\n",
    "#to_nm_list('111111111', 4, 3)"
   ]
  },
  {
   "cell_type": "code",
   "execution_count": 283,
   "id": "e9427113",
   "metadata": {},
   "outputs": [],
   "source": [
    "import numpy as np\n",
    "def interleaving(A, sf, cr):\n",
    "    O=''\n",
    "    p=[]\n",
    "    A=to_nm_list(A, sf, cr+4)\n",
    "    #print(A)\n",
    "    if len(A[1]) == 4+cr :\n",
    "        S = [[0 for i in range(sf)] for j in range(4+cr)]\n",
    "        for i in range(0, 4+cr):\n",
    "            for j in range(0, sf):\n",
    "                k =sf-np.mod((i-j), sf) - 1\n",
    "                l =cr+3-i\n",
    "                S[i][j] = A[k][l]\n",
    "        O=O.join(sum(S, []))\n",
    "    else:\n",
    "        for i in A:\n",
    "            I=''\n",
    "            #print(i)\n",
    "            I=I.join(sum(i, []))\n",
    "            #print(I)\n",
    "            p.append(interleaving(I, sf, cr))\n",
    "            #print(p)\n",
    "        O=O.join(p)\n",
    "    return(O)\n",
    "#interleaving('000111111111111111001', 3, 3)"
   ]
  },
  {
   "cell_type": "code",
   "execution_count": 284,
   "id": "f97bbe60",
   "metadata": {},
   "outputs": [],
   "source": [
    "def deinterleaving(A, sf, cr):\n",
    "    O=''\n",
    "    p=[]\n",
    "    A=to_nm_list(A, cr+4, sf)\n",
    "    if len(A[1]) == sf :\n",
    "        S = [[0 for i in range(4+cr)] for j in range(sf)]\n",
    "        for i in range(0, sf):\n",
    "            for j in range(0, cr+4):\n",
    "                l =np.mod((sf+cr+4-j-i), sf)\n",
    "                k =cr+3-j\n",
    "                S[-i][j] = A[k][l]\n",
    "        O=O.join(sum(S, []))\n",
    "    else:\n",
    "        for i in A:\n",
    "            I=''\n",
    "            I=I.join(sum(i, []))\n",
    "            p.append(deinterleaving(I, sf, cr))\n",
    "        O=O.join(p)\n",
    "    return(O)\n",
    "#deinterleaving(interleaving('000111111111111111001', 3, 3), 3, 3)\n"
   ]
  }
 ],
 "metadata": {
  "kernelspec": {
   "display_name": "Python 3 (ipykernel)",
   "language": "python",
   "name": "python3"
  },
  "language_info": {
   "codemirror_mode": {
    "name": "ipython",
    "version": 3
   },
   "file_extension": ".py",
   "mimetype": "text/x-python",
   "name": "python",
   "nbconvert_exporter": "python",
   "pygments_lexer": "ipython3",
   "version": "3.10.8"
  }
 },
 "nbformat": 4,
 "nbformat_minor": 5
}
