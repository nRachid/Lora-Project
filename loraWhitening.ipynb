{
 "cells": [
  {
   "cell_type": "code",
   "execution_count": 1,
   "id": "517e6a1c",
   "metadata": {},
   "outputs": [],
   "source": [
    "import random\n"
   ]
  },
  {
   "cell_type": "code",
   "execution_count": 7,
   "id": "ac992aab",
   "metadata": {},
   "outputs": [
    {
     "name": "stdout",
     "output_type": "stream",
     "text": [
      "[1, 1, 1, 0]\n"
     ]
    }
   ],
   "source": [
    "n = 8\n",
    "M = []\n",
    "for i in range(4):\n",
    "    M += [random.randint(0,1)]\n",
    "print(M)\n"
   ]
  },
  {
   "cell_type": "code",
   "execution_count": 8,
   "id": "a0bf04a9",
   "metadata": {},
   "outputs": [
    {
     "name": "stdout",
     "output_type": "stream",
     "text": [
      "[1, 1, 1, 1, 1, 0, 0, 1]\n"
     ]
    }
   ],
   "source": [
    "S = []\n",
    "for i in range(n):\n",
    "    S += [random.randint(0,1)]\n",
    "print(S)"
   ]
  },
  {
   "cell_type": "markdown",
   "id": "4e13a402",
   "metadata": {},
   "source": []
  },
  {
   "cell_type": "code",
   "execution_count": 9,
   "id": "5beaf0c8",
   "metadata": {},
   "outputs": [
    {
     "name": "stdout",
     "output_type": "stream",
     "text": [
      "[1, 1, 1, 0]\n",
      "[0, 0, 0, 1]\n",
      "[1, 1, 1, 0]\n"
     ]
    }
   ],
   "source": [
    "def whitening (message):\n",
    "    r= round(len(message)/len(S))\n",
    "    \n",
    "    W = []\n",
    "    if r>1:\n",
    "        for i in range (1,r+1):\n",
    "            m = message[:len(S)]\n",
    "            W = W + list(a^b for a,b in zip(m,S))\n",
    "            message = message[len(S):]\n",
    "    else :\n",
    "        W = list(a^b for a,b in zip(message,S))\n",
    "    \n",
    "    return W\n",
    "t = whitening(M)\n",
    "print(M)\n",
    "print(t)\n",
    "def dewhitening(whitened):\n",
    "    r= round(len(whitened)/len(S))\n",
    "    \n",
    "    W = []\n",
    "    if r>1:\n",
    "        for i in range (1,r+1):\n",
    "            m = whitened[:len(S)]\n",
    "            W = W + list(a^b for a,b in zip(m,S))\n",
    "            whitened = whitened[len(S):]\n",
    "    else :\n",
    "        W = list(a^b for a,b in zip(whitened,S))\n",
    "    \n",
    "    return W\n",
    "print (dewhitening(t))\n",
    "    \n",
    "    "
   ]
  },
  {
   "cell_type": "code",
   "execution_count": 5,
   "id": "1a7a2602",
   "metadata": {},
   "outputs": [
    {
     "name": "stdout",
     "output_type": "stream",
     "text": [
      "[0, 0, 1, 1, 0]\n"
     ]
    }
   ],
   "source": [
    "W = list(a^b for a,b in zip(M,S))\n",
    "print(W)"
   ]
  }
 ],
 "metadata": {
  "kernelspec": {
   "display_name": "Python 3 (ipykernel)",
   "language": "python",
   "name": "python3"
  },
  "language_info": {
   "codemirror_mode": {
    "name": "ipython",
    "version": 3
   },
   "file_extension": ".py",
   "mimetype": "text/x-python",
   "name": "python",
   "nbconvert_exporter": "python",
   "pygments_lexer": "ipython3",
   "version": "3.9.12"
  }
 },
 "nbformat": 4,
 "nbformat_minor": 5
}
