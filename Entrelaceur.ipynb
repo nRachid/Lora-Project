{
 "cells": [
  {
   "cell_type": "code",
   "execution_count": 32,
   "id": "6ca7857d",
   "metadata": {},
   "outputs": [
    {
     "data": {
      "text/plain": [
       "[['56', '7', '14', '21', '28', '35', '42', '49'],\n",
       " ['48', '55', '6', '13', '20', '27', '34', '41'],\n",
       " ['40', '47', '54', '5', '12', '19', '26', '33'],\n",
       " ['32', '39', '46', '53', '4', '11', '18', '25'],\n",
       " ['24', '31', '38', '45', '52', '3', '10', '17'],\n",
       " ['16', '23', '30', '37', '44', '51', '2', '9'],\n",
       " ['8', '15', '22', '29', '36', '43', '50', '1']]"
      ]
     },
     "execution_count": 32,
     "metadata": {},
     "output_type": "execute_result"
    }
   ],
   "source": [
    "import numpy as np\n",
    "cr=3\n",
    "sf=8\n",
    "A = [['1', '2', '3','4', '5', '6', '7'],\n",
    "     ['8', '9', '10','11', '12', '13', '14'],\n",
    "     ['15', '16', '17','18', '19', '20', '21'],\n",
    "     ['22', '23', '24','25', '26', '27', '28'],\n",
    "     ['29', '30', '31','32', '33', '34', '35'],\n",
    "     ['36', '37', '38','39', '40', '41', '42'],\n",
    "     ['43', '44', '45','46', '47', '48', '49'],\n",
    "     ['50', '51', '52','53', '54', '55', '56']]\n",
    "def interleaving(A, sf, cr):\n",
    "    S = [[0 for i in range(sf)] for j in range(4+cr)]\n",
    "    for i in range(0, 4+cr):\n",
    "        for j in range(0, sf):\n",
    "            k =sf-np.mod((i-j), sf) - 1\n",
    "            l =cr+3-i\n",
    "            S[i][j] = A[k][l]\n",
    "    return(S)\n",
    "\n",
    "B=interleaving(A, sf, cr)\n",
    "interleaving(A, sf, cr)\n"
   ]
  },
  {
   "cell_type": "code",
   "execution_count": 33,
   "id": "f97bbe60",
   "metadata": {},
   "outputs": [
    {
     "data": {
      "text/plain": [
       "[['1', '2', '3', '4', '5', '6', '7'],\n",
       " ['8', '9', '10', '11', '12', '13', '14'],\n",
       " ['15', '16', '17', '18', '19', '20', '21'],\n",
       " ['22', '23', '24', '25', '26', '27', '28'],\n",
       " ['29', '30', '31', '32', '33', '34', '35'],\n",
       " ['36', '37', '38', '39', '40', '41', '42'],\n",
       " ['43', '44', '45', '46', '47', '48', '49'],\n",
       " ['50', '51', '52', '53', '54', '55', '56']]"
      ]
     },
     "execution_count": 33,
     "metadata": {},
     "output_type": "execute_result"
    }
   ],
   "source": [
    "def deinterleaving(A, sf, cr):\n",
    "    S = [[0 for i in range(4+cr)] for j in range(sf)]\n",
    "    for i in range(0, sf):\n",
    "        for j in range(0, cr+4):\n",
    "            l =np.mod((sf+cr+4-j-i), sf)\n",
    "            k =cr+3-j\n",
    "            S[-i][j] = A[k][l]\n",
    "    return(S)\n",
    "deinterleaving(B, sf, cr)"
   ]
  },
  {
   "cell_type": "code",
   "execution_count": null,
   "id": "281ab174",
   "metadata": {},
   "outputs": [],
   "source": []
  }
 ],
 "metadata": {
  "kernelspec": {
   "display_name": "Python 3 (ipykernel)",
   "language": "python",
   "name": "python3"
  },
  "language_info": {
   "codemirror_mode": {
    "name": "ipython",
    "version": 3
   },
   "file_extension": ".py",
   "mimetype": "text/x-python",
   "name": "python",
   "nbconvert_exporter": "python",
   "pygments_lexer": "ipython3",
   "version": "3.10.8"
  }
 },
 "nbformat": 4,
 "nbformat_minor": 5
}
