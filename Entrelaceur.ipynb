{
 "cells": [
  {
   "cell_type": "code",
   "execution_count": 23,
   "id": "6ca7857d",
   "metadata": {},
   "outputs": [
    {
     "data": {
      "text/plain": [
       "[[1, 1, 1, 1, 1, 1, 1, 1],\n",
       " [1, 1, 1, 1, 1, 1, 1, 1],\n",
       " [1, 1, 1, 1, 1, 1, 1, 1],\n",
       " [1, 1, 1, 1, 1, 1, 1, 1],\n",
       " [1, 1, 1, 1, 1, 1, 1, 1],\n",
       " [1, 1, 1, 1, 1, 1, 1, 1],\n",
       " [1, 1, 1, 1, 1, 1, 1, 1]]"
      ]
     },
     "execution_count": 23,
     "metadata": {},
     "output_type": "execute_result"
    }
   ],
   "source": [
    "import numpy as np\n",
    "cr=3\n",
    "sf=8\n",
    "A = [[1 for i in range(4+cr)] for j in range(sf)]\n",
    "\n",
    "def interleaving(A, sf, cr):\n",
    "    S = [[0 for i in range(sf)] for j in range(4+cr)]\n",
    "    for i in range(0, 4+cr):\n",
    "        for j in range(0, sf):\n",
    "            k =sf-np.mod((i - j), sf) - 1\n",
    "            l =cr+3-i\n",
    "            S[i][j] = A[k][l]\n",
    "    return(S)\n",
    "interleaving(A, sf, cr)"
   ]
  },
  {
   "cell_type": "code",
   "execution_count": null,
   "id": "f97bbe60",
   "metadata": {},
   "outputs": [],
   "source": []
  }
 ],
 "metadata": {
  "kernelspec": {
   "display_name": "Python 3 (ipykernel)",
   "language": "python",
   "name": "python3"
  },
  "language_info": {
   "codemirror_mode": {
    "name": "ipython",
    "version": 3
   },
   "file_extension": ".py",
   "mimetype": "text/x-python",
   "name": "python",
   "nbconvert_exporter": "python",
   "pygments_lexer": "ipython3",
   "version": "3.10.8"
  }
 },
 "nbformat": 4,
 "nbformat_minor": 5
}
