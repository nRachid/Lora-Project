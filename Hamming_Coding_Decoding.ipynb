{
 "cells": [
  {
   "cell_type": "code",
   "execution_count": 1,
   "id": "196c8361",
   "metadata": {},
   "outputs": [],
   "source": [
    "# Hamming code (7,4):\n",
    "\n",
    "K = 4\n",
    "def hamming_encode(b):\n",
    "    # Read in K=4 bits at a time and write out those plus parity bits\n",
    "    print(\"hamming code generated is\" ) \n",
    "    while len(b) >= K:\n",
    "        L = b[0:K]\n",
    "        input(hamming(L))\n",
    "        b = b[K:]\n",
    "\n",
    "def hamming(bits):\n",
    "    # Return given 4 bits plus parity bits for bits (1,2,3), (2,3,4) and (1,3,4)\n",
    "    a1 = parity(bits, [0,1,3])\n",
    "    a2 = parity(bits, [0,2,3])\n",
    "    a3 = parity(bits, [1,2,3])\n",
    "    return a1 + a2 + bits[0] + a3 + bits[1:] \n",
    "\n",
    "def parity(b, indicies):\n",
    "    # Compute the parity bit for the given string b and indicies\n",
    "    c = \"\"\n",
    "    for i in indicies:\n",
    "        c += b[i]\n",
    "    return str(str.count(c, \"1\") % 2)\n"
   ]
  },
  {
   "cell_type": "code",
   "execution_count": 2,
   "id": "22953a0f",
   "metadata": {},
   "outputs": [
    {
     "name": "stdout",
     "output_type": "stream",
     "text": [
      "hamming code generated is\n",
      "1011010\n",
      "0011001\n"
     ]
    }
   ],
   "source": [
    "hamming_encode('10101001')"
   ]
  },
  {
   "cell_type": "code",
   "execution_count": 3,
   "id": "1a56cdd5",
   "metadata": {},
   "outputs": [],
   "source": [
    "def detection_correction_error(data):\n",
    "\n",
    "    data.reverse()\n",
    "    c,ch,j,r,error,h,parity_list,h_copy=0,0,0,0,0,[],[],[]\n",
    "\n",
    "    for k in range(0,len(data)):\n",
    "        p=(2**c)\n",
    "        h.append(int(data[k]))\n",
    "        h_copy.append(data[k])\n",
    "        if(p==(k+1)):\n",
    "            c=c+1\n",
    "            \n",
    "    for parity in range(0,(len(h))):\n",
    "        ph=(2**ch)\n",
    "        if(ph==(parity+1)):\n",
    "\n",
    "            startIndex=ph-1\n",
    "            i=startIndex\n",
    "            toXor=[]\n",
    "\n",
    "            while(i<len(h)):\n",
    "                block=h[i:i+ph]\n",
    "                toXor.extend(block)\n",
    "                i+=2*ph\n",
    "\n",
    "            for z in range(1,len(toXor)):\n",
    "                h[startIndex]=h[startIndex]^toXor[z] \n",
    "            parity_list.append(h[parity])\n",
    "            ch+=1\n",
    "    parity_list.reverse()\n",
    "   \n",
    "    error=sum(int(parity_list) * (2 ** i) for i, parity_list in enumerate(parity_list[::-1]))\n",
    "    if((error)==0):\n",
    "        print('There is no error in the hamming code received')\n",
    "\n",
    "    elif((error)>=len(h_copy)):\n",
    "        print('Error cannot be detected')\n",
    "\n",
    "    else:\n",
    "        print('Error is in',error,'bit')\n",
    "\n",
    "        if(h_copy[error-1]=='0'):\n",
    "            h_copy[error-1]='1'\n",
    "            print('After correction hamming code is: ')\n",
    "    \n",
    "\n",
    "        elif(h_copy[error-1]=='1'):\n",
    "            h_copy[error-1]='0'\n",
    "            print('After correction hamming code is: ')\n",
    "        h_copy.reverse()\n",
    "        print(int(''.join(map(str, h_copy))))\n",
    "\n",
    "def parity_index(data):\n",
    "    bit_index = 2\n",
    "    parity_location = [0]\n",
    "\n",
    "    while bit_index <= len(data):\n",
    "        parity_location.append(bit_index - 1)\n",
    "        bit_index = bit_index * 2\n",
    "    return parity_location\n",
    "\n",
    "def parity_range(bits, interator):\n",
    "    result = []\n",
    "    \n",
    "    next_bit = interator - 1\n",
    "    cicle = interator\n",
    "\n",
    "    for index, bit in enumerate(data):\n",
    "        if index == next_bit:\n",
    "\n",
    "            if index not in parity_index(data):\n",
    "                result.append(index)\n",
    "            cicle -= 1\n",
    "\n",
    "            if cicle == 0:\n",
    "                next_bit += interator + 1\n",
    "                cicle = interator\n",
    "            else:\n",
    "                next_bit += 1\n",
    "    return result\n",
    "\n",
    "def parity(data, interator):\n",
    "    result = 0\n",
    "    for index in parity_range(data, interator):\n",
    "        result += data[index]\n",
    "    return 0 if result % 2 == 0 else 1\n",
    "\n",
    "def remove_parity(data):\n",
    "    result = []\n",
    "    for index, bit in enumerate(data):\n",
    "        if index not in parity_index(data):\n",
    "            result.append(bit)  \n",
    "    return result\n",
    "\n",
    "def hamming_decode(data):\n",
    "    detection_correction_error(data)\n",
    "    data = remove_parity(data)\n",
    "    print ('the code without parity bits is')\n",
    "    return data"
   ]
  },
  {
   "cell_type": "code",
   "execution_count": 4,
   "id": "345ee834",
   "metadata": {},
   "outputs": [
    {
     "name": "stdout",
     "output_type": "stream",
     "text": [
      "Error is in 4 bit\n",
      "After correction hamming code is: \n",
      "1010010\n",
      "the code without parity bits is\n"
     ]
    },
    {
     "data": {
      "text/plain": [
       "['0', '1', '0', '1']"
      ]
     },
     "execution_count": 4,
     "metadata": {},
     "output_type": "execute_result"
    }
   ],
   "source": [
    "hamming_decode(['1','0','1','1','0','1','0'])"
   ]
  },
  {
   "cell_type": "code",
   "execution_count": null,
   "id": "e2ec3d69",
   "metadata": {},
   "outputs": [],
   "source": []
  }
 ],
 "metadata": {
  "kernelspec": {
   "display_name": "Python 3 (ipykernel)",
   "language": "python",
   "name": "python3"
  },
  "language_info": {
   "codemirror_mode": {
    "name": "ipython",
    "version": 3
   },
   "file_extension": ".py",
   "mimetype": "text/x-python",
   "name": "python",
   "nbconvert_exporter": "python",
   "pygments_lexer": "ipython3",
   "version": "3.9.7"
  }
 },
 "nbformat": 4,
 "nbformat_minor": 5
}
